{
 "cells": [
  {
   "cell_type": "code",
   "execution_count": 1,
   "id": "2072ae78-fab0-4535-8c53-2f927646a649",
   "metadata": {},
   "outputs": [],
   "source": [
    "import math"
   ]
  },
  {
   "cell_type": "code",
   "execution_count": 2,
   "id": "91925afc-7741-446d-8e70-7635e6dd8763",
   "metadata": {},
   "outputs": [
    {
     "name": "stdout",
     "output_type": "stream",
     "text": [
      "Volume Teoritis (dalam m3) pada Data 1 : 9990.0 m3\n",
      "Volume Teoritis (dalam m3) pada Data 2 : 10275 m3\n",
      "Volume Teoritis (dalam ton) pada Data 1 : 18981.0 Ton\n",
      "Volume Teoritis (dalam ton) pada Data 2 : 19522.5 Ton\n",
      "------------------------------------------------------------\n",
      "Volume Teoritis Akhir (dalam ton) pada Data 1 : 16501.23 Ton\n",
      "Volume Teoritis Akhir (dalam ton) pada Data 2 : 15813.22 Ton\n",
      "Volume Teoritis Akhir (dalam m3) pada Data 1 : 8684.86 m3\n",
      "Volume Teoritis Akhir (dalam m3) pada Data 2 : 8322.75 m3\n"
     ]
    }
   ],
   "source": [
    "#Volume Hasil Peledakan dengan Metode Teoritis (Geomteri Peledakan)\n",
    "B = [3, 3]\n",
    "S = [3.75, 5]\n",
    "BH = [4, 5]\n",
    "n = [222, 137]\n",
    "\n",
    "Density = 1.9\n",
    "\n",
    "Volume_loss_DT = [2479.77, 3709.28]\n",
    "\n",
    "Volume_m3 = []\n",
    "Volume_ton = []\n",
    "Volume_ton_teoritis = []\n",
    "Volume_m3_teoritis = []\n",
    "\n",
    "for i in range(len(B)):\n",
    "    V_m3 = B[i]*S[i]*BH[i]*n[i]\n",
    "    print(\"Volume Teoritis (dalam m3) pada Data\", i+1, \":\", V_m3, \"m3\")\n",
    "    Volume_m3.append(V_m3)\n",
    "\n",
    "for i in range(len(B)):\n",
    "    V_ton = Volume_m3[i]*Density\n",
    "    print(\"Volume Teoritis (dalam ton) pada Data\", i+1, \":\", V_ton, \"Ton\")\n",
    "    Volume_ton.append(V_ton)\n",
    "\n",
    "print(\"------------------------------------------------------------\")\n",
    "\n",
    "for i in range(len(Volume_loss_DT)):\n",
    "    V_ton_final = Volume_ton[i]-Volume_loss_DT[i]\n",
    "    print(\"Volume Teoritis Akhir (dalam ton) pada Data\", i+1, \":\", V_ton_final, \"Ton\")\n",
    "    Volume_ton_teoritis.append(V_ton_final)\n",
    "\n",
    "for i in range(len(Volume_ton_teoritis)):\n",
    "    V_m3_final = Volume_ton_teoritis[i]/1.9\n",
    "    print(\"Volume Teoritis Akhir (dalam m3) pada Data\", i+1, \":\", round(V_m3_final, 2), \"m3\")"
   ]
  },
  {
   "cell_type": "code",
   "execution_count": 3,
   "id": "c6a74ccf-5535-4fb6-a07d-5db084eabd21",
   "metadata": {},
   "outputs": [
    {
     "name": "stdout",
     "output_type": "stream",
     "text": [
      "Tingkat Kesamaan Metode Terrestrial Mapping Data 1 : 99.42 %\n",
      "Tingkat Kesamaan Metode Aerial Mapping (Tanpa GCP) Data 1 : 81.92 %\n",
      "Tingkat Kesamaan Metode Aerial Mapping (5 GCP) Data 1 : 89.08 %\n",
      "Tingkat Kesamaan Metode Aerial Mapping (8 GCP) Data 1 : 93.35 %\n",
      "Tingkat Kesamaan Metode Terrestrial Mapping Data 2 : 94.27 %\n",
      "Tingkat Kesamaan Metode Aerial Mapping (Tanpa GCP) Data 2 : 83.4 %\n",
      "Tingkat Kesamaan Metode Aerial Mapping (5 GCP) Data 2 : 90.42 %\n",
      "Tingkat Kesamaan Metode Aerial Mapping (8 GCP) Data 2 : 90.77 %\n",
      "-----------------------------------------------\n",
      "Tingkat Perbedaan Metode Terrestrial Mapping Data 1 : 0.58 %\n",
      "Tingkat Perbedaan Metode Aerial Mapping (Tanpa GCP) Data 1 : 18.08 %\n",
      "Tingkat Perbedaan Metode Aerial Mapping (5 GCP) Data 1 : 10.92 %\n",
      "Tingkat Perbedaan Metode Aerial Mapping (8 GCP) Data 1 : 6.65 %\n",
      "Tingkat Perbedaan Metode Terrestrial Mapping Data 2 : 5.73 %\n",
      "Tingkat Perbedaan Metode Aerial Mapping (Tanpa GCP) Data 2 : 16.6 %\n",
      "Tingkat Perbedaan Metode Aerial Mapping (5 GCP) Data 2 : 9.58 %\n",
      "Tingkat Perbedaan Metode Aerial Mapping (8 GCP) Data 2 : 9.23 %\n"
     ]
    }
   ],
   "source": [
    "#Kesamaan dan Perbedaan Masing-masing Metode terhadap Metode Teoritis pada Kedua Data\n",
    "Teoritis = Volume_ton_teoritis\n",
    "Terrestrial_Map = [16405.45, 14906.75]\n",
    "Aerial_Map_nogcp = [13518.12, 13188.76]\n",
    "Aerial_Map_5gcp = [14699.39, 14297.63]\n",
    "Aerial_Map_8gcp = [15403.59, 14353.72]\n",
    "\n",
    "Kesamaan_Terr = []\n",
    "Kesamaan_Aer_nogcp = []\n",
    "Kesamaan_Aer_5gcp = []\n",
    "Kesamaan_Aer_8gcp = []\n",
    "\n",
    "for i in range(len(Teoritis)):\n",
    "    Kesamaan_Terrestrial = Terrestrial_Map[i]/Teoritis[i]*100\n",
    "    Kesamaan_Aerial_nogcp = Aerial_Map_nogcp[i]/Teoritis[i]*100\n",
    "    Kesamaan_Aerial_5gcp = Aerial_Map_5gcp[i]/Teoritis[i]*100\n",
    "    Kesamaan_Aerial_8gcp = Aerial_Map_8gcp[i]/Teoritis[i]*100\n",
    "\n",
    "    Kesamaan_Terr.append(Kesamaan_Terrestrial)\n",
    "    Kesamaan_Aer_nogcp.append(Kesamaan_Aerial_nogcp)\n",
    "    Kesamaan_Aer_5gcp.append(Kesamaan_Aerial_5gcp)\n",
    "    Kesamaan_Aer_8gcp.append(Kesamaan_Aerial_8gcp)\n",
    "    \n",
    "    print(\"Tingkat Kesamaan Metode Terrestrial Mapping Data\", i+1, \":\", round(Kesamaan_Terrestrial, 2), \"%\")\n",
    "    print(\"Tingkat Kesamaan Metode Aerial Mapping (Tanpa GCP) Data\", i+1, \":\", round(Kesamaan_Aerial_nogcp, 2), \"%\")\n",
    "    print(\"Tingkat Kesamaan Metode Aerial Mapping (5 GCP) Data\", i+1, \":\", round(Kesamaan_Aerial_5gcp, 2), \"%\")\n",
    "    print(\"Tingkat Kesamaan Metode Aerial Mapping (8 GCP) Data\", i+1, \":\", round(Kesamaan_Aerial_8gcp, 2), \"%\")\n",
    "\n",
    "print(\"-----------------------------------------------\")\n",
    "\n",
    "for i in range(len(Teoritis)):\n",
    "    Perbedaan_Terrestrial = abs(Kesamaan_Terr[i] - 100)\n",
    "    Perbedaan_Aerial_nogcp = abs(Kesamaan_Aer_nogcp[i] - 100)\n",
    "    Perbedaan_Aerial_5gcp = abs(Kesamaan_Aer_5gcp[i] - 100)\n",
    "    Perbedaan_Aerial_8gcp = abs(Kesamaan_Aer_8gcp[i] - 100)\n",
    "    print(\"Tingkat Perbedaan Metode Terrestrial Mapping Data\", i+1, \":\", round(Perbedaan_Terrestrial, 2), \"%\")\n",
    "    print(\"Tingkat Perbedaan Metode Aerial Mapping (Tanpa GCP) Data\", i+1, \":\", round(Perbedaan_Aerial_nogcp, 2), \"%\")\n",
    "    print(\"Tingkat Perbedaan Metode Aerial Mapping (5 GCP) Data\", i+1, \":\", round(Perbedaan_Aerial_5gcp, 2), \"%\")\n",
    "    print(\"Tingkat Perbedaan Metode Aerial Mapping (8 GCP) Data\", i+1, \":\", round(Perbedaan_Aerial_8gcp, 2), \"%\")"
   ]
  },
  {
   "cell_type": "code",
   "execution_count": 4,
   "id": "e1a31785-fca2-4fd4-81e9-ba1407de72c3",
   "metadata": {},
   "outputs": [],
   "source": [
    "def horizontal(RMSEX, RMSEY):\n",
    "    RMSE_vertikal = []\n",
    "    for i in range(len(RMSEX)):\n",
    "        D2 = math.sqrt(RMSEX[i]**2 + RMSEY[i]**2)\n",
    "        RMSE_vertikal.append(D2)\n",
    "\n",
    "    for i in range(len(RMSE_vertikal)):\n",
    "        CE90 = 1.5175*RMSE_vertikal[i]\n",
    "        print(\"Ketelitian Horizontal CE90 data:\", i+1, \"=\", round(CE90, 2), \"meter\")\n",
    "\n",
    "def vertikal(RMSEZ):\n",
    "    for i in range(len(RMSEZ)):\n",
    "        LE90 = 1.6499*RMSEZ[i]\n",
    "        print(\"Ketelitian Vertikal LE90 data:\", i+1, \"=\", round(LE90,2), \"meter\")"
   ]
  },
  {
   "cell_type": "code",
   "execution_count": 5,
   "id": "75d29335-ef22-4b4c-8ee5-49b9bd9775b3",
   "metadata": {},
   "outputs": [
    {
     "name": "stdout",
     "output_type": "stream",
     "text": [
      "Hasil Ketelitian Foto Udara Tanpa Menggunakan GCP:\n",
      "Ketelitian Horizontal CE90 data: 1 = 0.42 meter\n",
      "Ketelitian Horizontal CE90 data: 2 = 0.31 meter\n",
      "Ketelitian Vertikal LE90 data: 1 = 1.24 meter\n",
      "Ketelitian Vertikal LE90 data: 2 = 0.4 meter\n"
     ]
    }
   ],
   "source": [
    "#Ketelitian tanpa GCP\n",
    "RMSEX = [0.17, 0.11]\n",
    "RMSEY = [0.22, 0.17]\n",
    "RMSEZ = [0.75, 0.24]\n",
    "\n",
    "print(\"Hasil Ketelitian Foto Udara Tanpa Menggunakan GCP:\")\n",
    "horizontal(RMSEX, RMSEY)\n",
    "vertikal(RMSEZ)"
   ]
  },
  {
   "cell_type": "code",
   "execution_count": 6,
   "id": "4e79450b-eae2-4505-afe0-9a8583924f38",
   "metadata": {},
   "outputs": [
    {
     "name": "stdout",
     "output_type": "stream",
     "text": [
      "Hasil Ketelitian Foto Udara Menggunakan 5 GCP:\n",
      "Ketelitian Horizontal CE90 data: 1 = 0.09 meter\n",
      "Ketelitian Horizontal CE90 data: 2 = 0.06 meter\n",
      "Ketelitian Vertikal LE90 data: 1 = 0.15 meter\n",
      "Ketelitian Vertikal LE90 data: 2 = 0.16 meter\n"
     ]
    }
   ],
   "source": [
    "#Ketelitian 5 GCP\n",
    "RMSEX = [0.04, 0.03]\n",
    "RMSEY = [0.04, 0.03]\n",
    "RMSEZ = [0.09, 0.10]\n",
    "\n",
    "print(\"Hasil Ketelitian Foto Udara Menggunakan 5 GCP:\")\n",
    "horizontal(RMSEX, RMSEY)\n",
    "vertikal(RMSEZ)"
   ]
  },
  {
   "cell_type": "code",
   "execution_count": 7,
   "id": "9d5e6dab-1448-45c8-a091-106353e02b46",
   "metadata": {},
   "outputs": [
    {
     "name": "stdout",
     "output_type": "stream",
     "text": [
      "Hasil Ketelitian Foto Udara Menggunakan 8 GCP:\n",
      "Ketelitian Horizontal CE90 data: 1 = 0.1 meter\n",
      "Ketelitian Horizontal CE90 data: 2 = 0.09 meter\n",
      "Ketelitian Vertikal LE90 data: 1 = 0.31 meter\n",
      "Ketelitian Vertikal LE90 data: 2 = 0.48 meter\n"
     ]
    }
   ],
   "source": [
    "#Ketelitian 8 GCP\n",
    "RMSEX = [0.03, 0.05]\n",
    "RMSEY = [0.06, 0.03]\n",
    "RMSEZ = [0.19, 0.29]\n",
    "\n",
    "print(\"Hasil Ketelitian Foto Udara Menggunakan 8 GCP:\")\n",
    "horizontal(RMSEX, RMSEY)\n",
    "vertikal(RMSEZ)"
   ]
  },
  {
   "cell_type": "code",
   "execution_count": 8,
   "id": "95f34c06-ce13-4e10-87db-7de79982dd88",
   "metadata": {},
   "outputs": [
    {
     "name": "stdout",
     "output_type": "stream",
     "text": [
      "Ketelitian Horizontal CE90 Acuan KELAS 1 data: 1 = 0.5 meter\n",
      "Ketelitian Horizontal CE90 Acuan KELAS 2 data: 1 = 0.75 meter\n",
      "Ketelitian Horizontal CE90 Acuan KELAS 3 data: 1 = 1.25 meter\n",
      "Ketelitian Horizontal CE90 Acuan KELAS 1 data: 2 = 0.3 meter\n",
      "Ketelitian Horizontal CE90 Acuan KELAS 2 data: 2 = 0.45 meter\n",
      "Ketelitian Horizontal CE90 Acuan KELAS 3 data: 2 = 0.75 meter\n",
      "------------------------------------\n",
      "Ketelitian Vertikal LE90 Acuan KELAS 1 data: 1 = 0.5 meter\n",
      "Ketelitian Vertikal LE90 Acuan KELAS 2 data: 1 = 0.75 meter\n",
      "Ketelitian Vertikal LE90 Acuan KELAS 3 data: 1 = 1.25 meter\n",
      "Ketelitian Vertikal LE90 Acuan KELAS 1 data: 2 = 0.3 meter\n",
      "Ketelitian Vertikal LE90 Acuan KELAS 2 data: 2 = 0.44999999999999996 meter\n",
      "Ketelitian Vertikal LE90 Acuan KELAS 3 data: 2 = 0.75 meter\n"
     ]
    }
   ],
   "source": [
    "#Membuat Ketelitian Acuan\n",
    "def ketelitian(bil_skala, interval_kontur):\n",
    "    for i in range(len(bil_skala)):\n",
    "        horizontal_1 = 0.2*bil_skala[i]/1000\n",
    "        horizontal_2 = 0.3*bil_skala[i]/1000\n",
    "        horizontal_3 = 0.5*bil_skala[i]/1000\n",
    "        print(\"Ketelitian Horizontal CE90 Acuan KELAS 1 data:\", i+1, \"=\", horizontal_1, \"meter\")\n",
    "        print(\"Ketelitian Horizontal CE90 Acuan KELAS 2 data:\", i+1, \"=\", horizontal_2, \"meter\")\n",
    "        print(\"Ketelitian Horizontal CE90 Acuan KELAS 3 data:\", i+1, \"=\", horizontal_3, \"meter\")\n",
    "\n",
    "    print(\"------------------------------------\")\n",
    "    \n",
    "    for i in range(len(interval_kontur)):\n",
    "        vertikal_1 = 0.5*interval_kontur[i]\n",
    "        vertikal_2 = 1.5*vertikal_1\n",
    "        vertikal_3 = 2.5*vertikal_1\n",
    "        print(\"Ketelitian Vertikal LE90 Acuan KELAS 1 data:\", i+1, \"=\", vertikal_1, \"meter\")\n",
    "        print(\"Ketelitian Vertikal LE90 Acuan KELAS 2 data:\", i+1, \"=\", vertikal_2, \"meter\")\n",
    "        print(\"Ketelitian Vertikal LE90 Acuan KELAS 3 data:\", i+1, \"=\", vertikal_3, \"meter\")\n",
    "\n",
    "bil_skala = [2500, 1500]\n",
    "interval_kontur = [1, 0.6]\n",
    "\n",
    "ketelitian(bil_skala, interval_kontur)"
   ]
  },
  {
   "cell_type": "code",
   "execution_count": 1,
   "id": "323ff9c6-f532-43db-9fdc-fcdfa5673dcd",
   "metadata": {},
   "outputs": [
    {
     "data": {
      "text/plain": [
       "0.2780287754891569"
      ]
     },
     "execution_count": 1,
     "metadata": {},
     "output_type": "execute_result"
    }
   ],
   "source": [
    "import math\n",
    "math.sqrt(0.17**2 + 0.22**2)"
   ]
  },
  {
   "cell_type": "code",
   "execution_count": 2,
   "id": "380d770a-47e7-43aa-950e-24ee7da90942",
   "metadata": {},
   "outputs": [
    {
     "data": {
      "text/plain": [
       "0.42490000000000006"
      ]
     },
     "execution_count": 2,
     "metadata": {},
     "output_type": "execute_result"
    }
   ],
   "source": [
    "0.28*1.5175"
   ]
  },
  {
   "cell_type": "code",
   "execution_count": 3,
   "id": "ad8f043f-d9a1-4799-9988-a95d814f601e",
   "metadata": {},
   "outputs": [
    {
     "data": {
      "text/plain": [
       "1.237425"
      ]
     },
     "execution_count": 3,
     "metadata": {},
     "output_type": "execute_result"
    }
   ],
   "source": [
    "1.6499*0.75"
   ]
  },
  {
   "cell_type": "code",
   "execution_count": 6,
   "id": "b79746c0-9ae0-4ce8-ad7c-98d063a62001",
   "metadata": {},
   "outputs": [
    {
     "data": {
      "text/plain": [
       "1.25"
      ]
     },
     "execution_count": 6,
     "metadata": {},
     "output_type": "execute_result"
    }
   ],
   "source": [
    "0.5 * 2500 / 1000"
   ]
  },
  {
   "cell_type": "code",
   "execution_count": 7,
   "id": "93acfe73-fe41-4111-b733-e0eb848a2bf9",
   "metadata": {},
   "outputs": [
    {
     "data": {
      "text/plain": [
       "0.75"
      ]
     },
     "execution_count": 7,
     "metadata": {},
     "output_type": "execute_result"
    }
   ],
   "source": [
    "1.5 * 0.5"
   ]
  },
  {
   "cell_type": "code",
   "execution_count": 8,
   "id": "2a900c5b-2695-46a5-84ed-9f7cbd7d49ec",
   "metadata": {},
   "outputs": [
    {
     "data": {
      "text/plain": [
       "10.863"
      ]
     },
     "execution_count": 8,
     "metadata": {},
     "output_type": "execute_result"
    }
   ],
   "source": [
    "23.660-12.797"
   ]
  },
  {
   "cell_type": "code",
   "execution_count": 1,
   "id": "b4d46b9d-bad3-4855-aaad-9e008a8a38f5",
   "metadata": {},
   "outputs": [
    {
     "name": "stdout",
     "output_type": "stream",
     "text": [
      "-0.5543429042542223\n"
     ]
    }
   ],
   "source": [
    "import math\n",
    "XA = 100.4726791944\n",
    "XB = 100.472991\n",
    "YA = 0.96766667\n",
    "YB = 0.96755000\n",
    "\n",
    "az = math.atan((XB-XA)/(YB-YA))\n",
    "print(az)"
   ]
  },
  {
   "cell_type": "code",
   "execution_count": 2,
   "id": "88e8c2d4-b7b0-4feb-8a39-654b8a45d36e",
   "metadata": {},
   "outputs": [
    {
     "name": "stdout",
     "output_type": "stream",
     "text": [
      "7.223000000067259e-05\n"
     ]
    }
   ],
   "source": [
    "print(XB-XA)"
   ]
  },
  {
   "cell_type": "code",
   "execution_count": 3,
   "id": "93f2d11a-631a-4e7c-a448-c86b17000210",
   "metadata": {},
   "outputs": [
    {
     "name": "stdout",
     "output_type": "stream",
     "text": [
      "-0.00011666999999992989\n"
     ]
    }
   ],
   "source": [
    "print(YB-YA)"
   ]
  },
  {
   "cell_type": "code",
   "execution_count": 1,
   "id": "d977f9cd-74ad-415f-bd8d-0f902baa7500",
   "metadata": {},
   "outputs": [
    {
     "name": "stdout",
     "output_type": "stream",
     "text": [
      "-1.0094903763785659\n"
     ]
    }
   ],
   "source": [
    "import math\n",
    "XA = 106991.96\n",
    "XB = 106979.03\n",
    "YA = 663893.95\n",
    "YB = 663902.08\n",
    "\n",
    "az = math.atan((XB-XA)/(YB-YA))\n",
    "print(az)"
   ]
  },
  {
   "cell_type": "code",
   "execution_count": null,
   "id": "1a0db285-ed27-43e9-8772-9f1df530256b",
   "metadata": {},
   "outputs": [],
   "source": []
  }
 ],
 "metadata": {
  "kernelspec": {
   "display_name": "Python 3 (ipykernel)",
   "language": "python",
   "name": "python3"
  },
  "language_info": {
   "codemirror_mode": {
    "name": "ipython",
    "version": 3
   },
   "file_extension": ".py",
   "mimetype": "text/x-python",
   "name": "python",
   "nbconvert_exporter": "python",
   "pygments_lexer": "ipython3",
   "version": "3.12.4"
  }
 },
 "nbformat": 4,
 "nbformat_minor": 5
}
