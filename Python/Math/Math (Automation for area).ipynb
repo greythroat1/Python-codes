{
 "cells": [
  {
   "cell_type": "code",
   "execution_count": 1,
   "id": "7a7275b0-f93c-447b-a58d-99ed2cbfc086",
   "metadata": {},
   "outputs": [
    {
     "name": "stdout",
     "output_type": "stream",
     "text": [
      "Menu:\n",
      "1 - Luas Persegipanjang\n",
      "2 - Luas Segitiga\n",
      "3 - Luas Lingkaran\n",
      "4 - Luas Trapesium\n",
      "5 - Keluar\n"
     ]
    },
    {
     "name": "stdin",
     "output_type": "stream",
     "text": [
      "Ketik pilihan Anda 1\n"
     ]
    },
    {
     "name": "stdout",
     "output_type": "stream",
     "text": [
      "Anda memilih menu Luas Persegi Panjang\n"
     ]
    },
    {
     "name": "stdin",
     "output_type": "stream",
     "text": [
      "Masukkan Panjang: 3\n",
      "Masukkan Lebar: 4\n"
     ]
    },
    {
     "name": "stdout",
     "output_type": "stream",
     "text": [
      "Luas Persegi Panjang adalah: 12.0 m2\n"
     ]
    }
   ],
   "source": [
    "import math\n",
    "\n",
    "# fungsi tampilkan menu\n",
    "def tampilkan_menu():\n",
    "    print(\"Menu:\")\n",
    "    print(\"1 - Luas Persegipanjang\")\n",
    "    print(\"2 - Luas Segitiga\")\n",
    "    print(\"3 - Luas Lingkaran\")\n",
    "    print(\"4 - Luas Trapesium\")\n",
    "    print(\"5 - Keluar\")\n",
    "\n",
    "    \n",
    "def pilih_menu():\n",
    "    while (True):\n",
    "       tampilkan_menu()\n",
    "       pilihan = input(\"Ketik pilihan Anda\")\n",
    "    \n",
    "       if (pilihan == \"1\" or pilihan == \"2\" or pilihan == \"3\" or pilihan == \"4\" or pilihan == \"5\"):\n",
    "          return int(pilihan)\n",
    "       else:       \n",
    "          print(\"Pilihan Anda tidak ada dalam menu\")  \n",
    "\n",
    "        \n",
    "def luas_persegipanjang(panjang,lebar):\n",
    "    luas = panjang*lebar\n",
    "    return luas\n",
    "    \n",
    "def luas_segitiga(alas,tinggi):\n",
    "    luas = alas*tinggi / 2\n",
    "    return luas\n",
    "\n",
    "    \n",
    "def luas_lingkaran(jari2):\n",
    "    luas = math.pi*jari2**2\n",
    "    return luas\n",
    "    \n",
    "def luas_trapesium(a,b,t):\n",
    "    luas = (a + b)/2 * t\n",
    "    return luas\n",
    "\n",
    "\n",
    "pilih = pilih_menu()\n",
    "if pilih == 1:\n",
    "    print(\"Anda memilih menu Luas Persegi Panjang\")\n",
    "    panjang = float(input(\"Masukkan Panjang:\"))\n",
    "    lebar = float(input(\"Masukkan Lebar:\"))\n",
    "    luas = luas_persegipanjang(panjang,lebar)\n",
    "    print(\"Luas Persegi Panjang adalah:\", luas, \"m2\")\n",
    "    \n",
    "\n",
    "elif pilih == 2:\n",
    "    print(\"Anda memilih menu Luas Segitiga\")\n",
    "    alas = float(input(\"Masukkan Alas:\"))\n",
    "    tinggi = float(input(\"Masukkan Tinggi:\"))\n",
    "    luas = luas_segitiga(alas,tinggi)\n",
    "    print(\"Luas Segitiga adalah:\", luas, \"m2\")\n",
    "\n",
    "elif pilih == 3:\n",
    "    print(\"Anda memilih menu Luas Lingkaran\")\n",
    "    jari2 = float(input(\"Masukkan Jari-jari:\"))\n",
    "    luas = luas_lingkaran(jari2)\n",
    "    print(\"Luas Lingkaran adalah:\", luas, \"m2\")\n",
    "    \n",
    "\n",
    "elif pilih == 4:\n",
    "    print(\"Anda memilih menu Luas Trapesium\")\n",
    "    a = float(input(\"Masukkan nilai a:\"))\n",
    "    b = float(input(\"Masukkan nilai b:\"))\n",
    "    t = float(input(\"Masukkan Tinggi:\"))\n",
    "    luas = luas_trapesium(a,b,t)\n",
    "    print(\"Luas Trapesium adalah:\", luas, \"m2\")\n",
    "\n",
    "else:\n",
    "    print(\"Anda memilih Keluar\")"
   ]
  },
  {
   "cell_type": "code",
   "execution_count": null,
   "id": "af6813f3-fdf1-437b-b18d-734e0ec767ef",
   "metadata": {},
   "outputs": [],
   "source": []
  }
 ],
 "metadata": {
  "kernelspec": {
   "display_name": "Python 3 (ipykernel)",
   "language": "python",
   "name": "python3"
  },
  "language_info": {
   "codemirror_mode": {
    "name": "ipython",
    "version": 3
   },
   "file_extension": ".py",
   "mimetype": "text/x-python",
   "name": "python",
   "nbconvert_exporter": "python",
   "pygments_lexer": "ipython3",
   "version": "3.10.9"
  }
 },
 "nbformat": 4,
 "nbformat_minor": 5
}
